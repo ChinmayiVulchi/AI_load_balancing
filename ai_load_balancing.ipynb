{
  "nbformat": 4,
  "nbformat_minor": 0,
  "metadata": {
    "colab": {
      "provenance": []
    },
    "kernelspec": {
      "name": "python3",
      "display_name": "Python 3"
    },
    "language_info": {
      "name": "python"
    }
  },
  "cells": [
    {
      "cell_type": "code",
      "execution_count": 1,
      "metadata": {
        "id": "XB95WiVnZRbZ"
      },
      "outputs": [],
      "source": [
        "import networkx as nx\n",
        "G = nx.Graph()"
      ]
    },
    {
      "cell_type": "code",
      "source": [
        "num_nodes=int(input(\"Enter number of nodes in the graph:\"))\n",
        "\n",
        "#addinng the nodes into the graph\n",
        "for i in range(num_nodes):\n",
        "  G.add_node(i)\n",
        "\n",
        "#accepting the adjacency matrix as input\n",
        "print(\"Enter the adjacency matrix:\")\n",
        "adj_mat=[]\n",
        "neighbours={}\n",
        "for i in range (num_nodes):\n",
        "  x = [int(x) for x in input(\"Enter the row : \").split()]\n",
        "  adj_mat.append(x)\n",
        "for i in range(num_nodes):\n",
        "  l=[]\n",
        "  for j in range(num_nodes):\n",
        "    k=adj_mat[i][j]\n",
        "    if(k==1):\n",
        "      G.add_edge(i, j)\n",
        "      l.append(j)\n",
        "  neighbours[i]=l"
      ],
      "metadata": {
        "colab": {
          "base_uri": "https://localhost:8080/"
        },
        "id": "p_WBm9deZZS5",
        "outputId": "941ba9f5-950c-4429-a825-3b5b773d10ed"
      },
      "execution_count": 2,
      "outputs": [
        {
          "name": "stdout",
          "output_type": "stream",
          "text": [
            "Enter number of nodes in the graph:5\n",
            "Enter the adjacency matrix:\n",
            "Enter the row : 0 1 1 0 0\n",
            "Enter the row : 1 0 0 1 1\n",
            "Enter the row : 1 0 0 1 0\n",
            "Enter the row : 0 1 1 0 0\n",
            "Enter the row : 0 1 0 0 0\n"
          ]
        }
      ]
    },
    {
      "cell_type": "code",
      "source": [
        "nx.draw(G,with_labels=True)"
      ],
      "metadata": {
        "id": "FBii6WtaZdab",
        "colab": {
          "base_uri": "https://localhost:8080/",
          "height": 516
        },
        "outputId": "206db774-69a1-4979-a215-a09328ccb64d"
      },
      "execution_count": 3,
      "outputs": [
        {
          "output_type": "display_data",
          "data": {
            "text/plain": [
              "<Figure size 640x480 with 1 Axes>"
            ],
            "image/png": "[encoded data removed]"
          },
          "metadata": {}
        }
      ]
    },
    {
      "cell_type": "code",
      "source": [
        "print(\"Enter the weights and the current status for each node:\")\n",
        "weight_st=[]\n",
        "for i in range(num_nodes):\n",
        "  x = [int(x) for x in input(\"Enter the weight and status : \").split()]\n",
        "  weight_st.append(x)\n",
        "\n",
        "print(weight_st)\n",
        "print(neighbours)"
      ],
      "metadata": {
        "id": "tXFi9AaZZhCo",
        "colab": {
          "base_uri": "https://localhost:8080/"
        },
        "outputId": "6025b508-6d71-4930-8de5-efc2cf202df7"
      },
      "execution_count": 4,
      "outputs": [
        {
          "output_type": "stream",
          "name": "stdout",
          "text": [
            "Enter the weights and the current status for each node:\n",
            "Enter the weight and status : 3 3\n",
            "Enter the weight and status : 2 2\n",
            "Enter the weight and status : 2 1\n",
            "Enter the weight and status : 2 2\n",
            "Enter the weight and status : 3 3\n",
            "[[3, 3], [2, 2], [2, 1], [2, 2], [3, 3]]\n",
            "{0: [1, 2], 1: [0, 3, 4], 2: [0, 3], 3: [1, 2], 4: [1]}\n"
          ]
        }
      ]
    },
    {
      "cell_type": "code",
      "source": [
        "\n",
        "def job_allocation(systems,src):\n",
        "\n",
        "  systems.pop(0)\n",
        "\n",
        "  for system in systems:\n",
        "    if(weight_st[system][0]>weight_st[system][1]):\n",
        "      print(\"\")\n",
        "      print(\"The new job is allocated to the system or node:\",system)\n",
        "      print(\"The weight and the current status of the node Before allocation of new job:\",weight_st)\n",
        "      weight_st[system][1]=weight_st[system][1]+1\n",
        "      print(\"The weight and the current status of the node After allocation of new job:\",weight_st)\n",
        "      t=nx.shortest_path(G, source=src, target=system)\n",
        "      print(\"Number migrations for job allocation required is:\",len(t)-1)\n",
        "      return weight_st\n",
        "\n",
        "    else:\n",
        "      continue\n",
        "\n",
        "  print(\"\")\n",
        "  print(\"No system in the network are free\")\n",
        "  return weight_st\n"
      ],
      "metadata": {
        "id": "4ajsGnJpZhX3"
      },
      "execution_count": 5,
      "outputs": []
    },
    {
      "cell_type": "code",
      "source": [
        "\n",
        "\n",
        "def bfs(visited, graph, node):\n",
        "  list_return=[]\n",
        "  #function for BFS\n",
        "  visited.append(node)\n",
        "  queue.append(node)\n",
        "\n",
        "  while queue:          # Creating loop to visit each node\n",
        "    m = queue.pop(0)\n",
        "    list_return.append(m)\n",
        "    print (m, end = \" \")\n",
        "\n",
        "    for neighbour in graph[m]:\n",
        "      if neighbour not in visited:\n",
        "        visited.append(neighbour)\n",
        "        queue.append(neighbour)\n",
        "  return list_return\n"
      ],
      "metadata": {
        "id": "VUghrZy9Zr-p"
      },
      "execution_count": 6,
      "outputs": []
    },
    {
      "cell_type": "code",
      "source": [
        "\n",
        "new_job= [int(x) for x in input(\"Enter the systems at which new jobs is to be allocated: \").split()]\n",
        "print(new_job)\n",
        "l=len(new_job)\n",
        "\n",
        "for i in range(l):\n",
        "  visited = [] # List for visited nodes.\n",
        "  queue = []     #Initialize a queue\n",
        "  if(weight_st[new_job[i]][0]>weight_st[new_job[i]][1]):\n",
        "      print(\"\")\n",
        "      print(\"The new job is allocated to the system or node:\",new_job[i])\n",
        "      print(\"number migrations for job allocation required is:\",0)\n",
        "  else:\n",
        "    print(\"Following is the Breadth-First Search\")\n",
        "    list_return=bfs(visited, neighbours, new_job[i])\n",
        "    weight_st=job_allocation(list_return,new_job[i])"
      ],
      "metadata": {
        "id": "qmTqs5ahZvo7",
        "colab": {
          "base_uri": "https://localhost:8080/"
        },
        "outputId": "d967b6cb-9bd7-47e0-e5f4-278f6aa500aa"
      },
      "execution_count": 7,
      "outputs": [
        {
          "output_type": "stream",
          "name": "stdout",
          "text": [
            "Enter the systems at which new jobs is to be allocated: 0 3\n",
            "[0, 3]\n",
            "Following is the Breadth-First Search\n",
            "0 1 2 3 4 \n",
            "The new job is allocated to the system or node: 2\n",
            "The weight and the current status of the node Before allocation of new job: [[3, 3], [2, 2], [2, 1], [2, 2], [3, 3]]\n",
            "The weight and the current status of the node After allocation of new job: [[3, 3], [2, 2], [2, 2], [2, 2], [3, 3]]\n",
            "Number migrations for job allocation required is: 1\n",
            "Following is the Breadth-First Search\n",
            "3 1 2 0 4 \n",
            "No system in the network are free\n"
          ]
        }
      ]
    }
  ]
}